{
 "cells": [
  {
   "cell_type": "code",
   "execution_count": 1,
   "id": "67fd7d33",
   "metadata": {},
   "outputs": [],
   "source": [
    "from bs4 import BeautifulSoup\n",
    "import requests\n",
    "import pandas as pd\n",
    "import numpy as np"
   ]
  },
  {
   "cell_type": "code",
   "execution_count": 2,
   "id": "68b2323e",
   "metadata": {},
   "outputs": [],
   "source": [
    "#Scrapping Samsung Data\n",
    "def check_price():\n",
    "    import requests\n",
    "    from bs4 import BeautifulSoup\n",
    "    import datetime\n",
    "    import csv\n",
    "\n",
    "    URL = 'https://www.jumia.co.ke/catalog/?q=samsung+phones'\n",
    "    headers = {\n",
    "        \"User-Agent\": \"Mozilla/5.0 (Windows NT 10.0; Win64; x64) AppleWebKit/537.36 (KHTML, like Gecko) Chrome/114.0.0.0 Safari/537.36\"\n",
    "    }\n",
    "    page = requests.get(URL, headers=headers)\n",
    "    soup = BeautifulSoup(page.content, \"html.parser\")\n",
    "\n",
    "    products = soup.find_all('a', class_='core')\n",
    "\n",
    "    if not products:\n",
    "        print(\"No products found on the page.\")\n",
    "        return\n",
    "\n",
    "    today = datetime.date.today()\n",
    "    data = []\n",
    "\n",
    "    for product in products:\n",
    "        title_element = product.find('h3', class_='name')\n",
    "        price_element = product.find(\"div\", class_=\"prc\")\n",
    "\n",
    "        if title_element is None or price_element is None:\n",
    "            print(\"Failed to retrieve title or price for a product.\")\n",
    "            continue\n",
    "\n",
    "        title = title_element.get_text(strip=True)\n",
    "        price = price_element.text.strip()\n",
    "\n",
    "        data.append([title, price, today])\n",
    "\n",
    "    header = ['Title', 'Price', 'Date']\n",
    "\n",
    "    with open('SamsungData.csv', 'w', newline='', encoding='UTF8') as f:\n",
    "        writer = csv.writer(f)\n",
    "        writer.writerow(header)\n",
    "        writer.writerows(data)\n",
    "\n",
    "check_price()\n"
   ]
  },
  {
   "cell_type": "code",
   "execution_count": 3,
   "id": "069901b1",
   "metadata": {},
   "outputs": [
    {
     "name": "stdout",
     "output_type": "stream",
     "text": [
      "                                                Title       Price        Date\n",
      "0   Samsung Galaxy A04, 6.5\", 64GB + 4GB RAM (Dual...  KSh 15,400  2023-06-16\n",
      "1   Samsung Galaxy A14, 6.6\", 128GB + 4GB, 50MP, D...  KSh 22,999  2023-06-16\n",
      "2   Samsung Galaxy A04e, 6.5\", 32GB + 3GB RAM (Dua...  KSh 12,900  2023-06-16\n",
      "3   Samsung Galaxy A04s, 6.5\", 64 GB + 4 GB RAM (D...  KSh 18,400  2023-06-16\n",
      "4   Samsung Galaxy A04e 32GB ROM 3GB RAM 6.5'' 500...  KSh 12,800  2023-06-16\n",
      "5   Samsung Galaxy A14, 6.6\", 128GB + 4GB, 50MP, D...  KSh 22,999  2023-06-16\n",
      "6   Samsung Galaxy A14 4G, 6.6\", 128GB + 4GB RAM (...  KSh 25,000  2023-06-16\n",
      "7   Samsung Galaxy A04s, 6.5\", 128GB + 4GB RAM (Du...  KSh 20,999  2023-06-16\n",
      "8   Samsung Galaxy A14, 6.6\", 128GB + 4GB, 50MP, D...  KSh 22,399  2023-06-16\n",
      "9   Samsung Galaxy F13, 6.6\", 4GB RAM + 128GB (Dua...  KSh 20,499  2023-06-16\n",
      "10  Samsung Galaxy A14 4G, 6.6\", 128GB + 4GB RAM (...  KSh 25,000  2023-06-16\n",
      "11  Samsung DUOS SM-B310E 2.0\"  Display FM Radio/S...   KSh 2,499  2023-06-16\n",
      "12  Samsung Galaxy A04e, 6.5\", 64GB + 3GB (Dual SI...  KSh 14,900  2023-06-16\n",
      "13  Samsung Galaxy A04, 6.5\", 64GB + 4GB RAM (Dual...  KSh 16,298  2023-06-16\n",
      "14  Samsung Galaxy A14, 6.6\", 128GB + 4GB, 50MP, D...  KSh 22,999  2023-06-16\n",
      "15  Samsung Galaxy F13, 6.6\", 4GB RAM + 64GB (Dual...  KSh 18,550  2023-06-16\n",
      "16  Samsung Galaxy A54 5G, 6.4\", 256GB + 8GB RAM (...  KSh 60,000  2023-06-16\n",
      "17  Samsung Galaxy A23, 6.6″, 64GB + 4GB RAM (Dual...  KSh 27,999  2023-06-16\n",
      "18  Samsung Galaxy M33 5G, 6.6\", 128GB + 6GB RAM (...  KSh 27,890  2023-06-16\n",
      "19  Samsung Galaxy A34 5G, 6.6\", 128GB + 6GB RAM (...  KSh 44,000  2023-06-16\n",
      "20  Samsung Galaxy A03 Core, 6.5\" 32GB + 2G, 5000m...  KSh 11,999  2023-06-16\n",
      "21         Samsung DUOS-- SM-B310E - Dual Sim - White   KSh 2,099  2023-06-16\n",
      "22  Samsung Galaxy A04s, 6.5\",64GB + 4GB RAM ,Dual...  KSh 18,399  2023-06-16\n",
      "23  Samsung Galaxy A23, 6.6\", 128GB + 6GB RAM (Dua...  KSh 27,799  2023-06-16\n",
      "24  Samsung Galaxy M33 5G, 6.6\", 128GB + 6GB RAM (...  KSh 27,650  2023-06-16\n",
      "25  Samsung Galaxy A04e, 6.5\", 32GB + 3GB (Dual SI...  KSh 13,595  2023-06-16\n",
      "26  Samsung Galaxy M33 5G, 6.6\", 128GB + 6GB RAM (...  KSh 27,550  2023-06-16\n",
      "27  Samsung Galaxy A04S – 6.5″ – 32GB ROM 3GB RAM ...  KSh 16,899  2023-06-16\n",
      "28  Samsung Galaxy A04s, 6.5\", 128GB + 4GB RAM (Du...  KSh 21,999  2023-06-16\n",
      "29  Samsung Galaxy A03 Core, 6.5\", (Dual SIM) 32GB...  KSh 11,597  2023-06-16\n",
      "30  Samsung Galaxy A14, 6.6\", 128GB + 4GB, 50MP, D...  KSh 22,399  2023-06-16\n",
      "31  Samsung Galaxy F23 5G, 6.6\", 128GB + 6GB RAM (...  KSh 26,799  2023-06-16\n",
      "32  Samsung Galaxy A04e,  6.5\", 3GB + 64GB, Dual S...  KSh 14,999  2023-06-16\n",
      "33  Samsung Galaxy A14 4G, 6.6\", 64GB + 4GB RAM (D...  KSh 22,600  2023-06-16\n",
      "34  Samsung Galaxy A03 Core, 6.5\", (Dual SIM) 32GB...  KSh 11,999  2023-06-16\n",
      "35  Samsung Galaxy A03 Core, 6.5 Inch,  (Dual SIM)...  KSh 11,598  2023-06-16\n",
      "36  Samsung Galaxy A13, 6.6\", 128GB + 4GB RAM (Dua...  KSh 23,599  2023-06-16\n",
      "37  Samsung Galaxy A04, 6.5\",IPS LCD DISPLAY(64GB ...  KSh 14,400  2023-06-16\n",
      "38  Samsung Galaxy S10 6.1\" 128GB ROM + 8GB RAM - ...  KSh 33,240  2023-06-16\n",
      "39  Samsung SM-B310(DUOS), 2\" Display,FM(DUAL-SIM)...   KSh 2,099  2023-06-16\n"
     ]
    }
   ],
   "source": [
    "#reading the csv file\n",
    "import pandas as pd\n",
    "df = pd.read_csv(r\"C:\\Users\\gorja\\OneDrive\\Desktop\\Test\\SamsungData.csv\")\n",
    "print(df)"
   ]
  },
  {
   "cell_type": "code",
   "execution_count": 5,
   "id": "44e69564",
   "metadata": {},
   "outputs": [],
   "source": [
    "# Scrapping Iphone Data\n",
    "\n",
    "def check_price():\n",
    "    import requests\n",
    "    from bs4 import BeautifulSoup\n",
    "    import datetime\n",
    "    import csv\n",
    "\n",
    "    URL = 'https://www.jumia.co.ke/catalog/?q=iphone+phones'\n",
    "    headers = {\n",
    "        \"User-Agent\": \"Mozilla/5.0 (Windows NT 10.0; Win64; x64) AppleWebKit/537.36 (KHTML, like Gecko) Chrome/114.0.0.0 Safari/537.36\"\n",
    "    }\n",
    "    page = requests.get(URL, headers=headers)\n",
    "    soup = BeautifulSoup(page.content, \"html.parser\")\n",
    "\n",
    "    products = soup.find_all('a', class_='core')\n",
    "\n",
    "    if not products:\n",
    "        print(\"No products found on the page.\")\n",
    "        return\n",
    "\n",
    "    today = datetime.date.today()\n",
    "    data = []\n",
    "\n",
    "    for product in products:\n",
    "        title_element = product.find('h3', class_='name')\n",
    "        price_element = product.find(\"div\", class_=\"prc\")\n",
    "\n",
    "        if title_element is None or price_element is None:\n",
    "            print(\"Failed to retrieve title or price for a product.\")\n",
    "            continue\n",
    "\n",
    "        title = title_element.get_text(strip=True)\n",
    "        price = price_element.text.strip()\n",
    "\n",
    "        data.append([title, price, today])\n",
    "\n",
    "    header = ['Title', 'Price', 'Date']\n",
    "\n",
    "    with open('iphone.csv', 'w', newline='', encoding='UTF8') as f:\n",
    "        writer = csv.writer(f)\n",
    "        writer.writerow(header)\n",
    "        writer.writerows(data)\n",
    "\n",
    "check_price()\n"
   ]
  },
  {
   "cell_type": "code",
   "execution_count": 7,
   "id": "094c19ad",
   "metadata": {},
   "outputs": [
    {
     "name": "stdout",
     "output_type": "stream",
     "text": [
      "                                                Title  \\\n",
      "0   Apple IPhone XS Authenticated And Repackaged B...   \n",
      "1   Apple IPhone X, 256GB, 3GB RAM 5.8'' Super Ret...   \n",
      "2   Apple IPhone 6S - 64GB - 2GB RAM- 4G LTE- 12MP...   \n",
      "3   Apple IPhone X, 256GB, 3GB RAM 5.8'' Super Ret...   \n",
      "4     Apple IPhone 11 Pro - 256GB - 4GB RAM - Gold...   \n",
      "5   Apple IPhone 11 128GB 4GB RAM Single SIM 6.1\" ...   \n",
      "6   Apple IPhone X, 64GB, 3GB RAM 5.8'' Super Reti...   \n",
      "7   Apple IPhone 11 Pro - 256GB - 4GB RAM - Midnig...   \n",
      "8   Generic Apple IPhone 13 Pro Max 128GB HDD- 6 G...   \n",
      "9   Apple iPhone 7 Plus, 128GB + 3GB RAM,  4G LTE ...   \n",
      "10  Generic Apple IPhone 11 Pro 64GB HDD - 4 GB RA...   \n",
      "11  Generic Camera Lens Protector For IPhone 12 Pr...   \n",
      "12  Apple IPhone 8 64GB ROM 2GB RAM 4G LTE - Singl...   \n",
      "13  Generic Universal Multifunctional Flexible Lon...   \n",
      "14                          Apple Iphone 6 Plus 64 GB   \n",
      "15  Apple IPhone 8 64GB ROM 2GB RAM 4G LTE - Singl...   \n",
      "16  Generic Apple IPhone 11 64GB HDD - 4 GB RAM -P...   \n",
      "17  Apple IPhone 14 - 6.1\" - 128GB + 6GB - Single ...   \n",
      "18  Apple IPhone 13, 6.1\", 128GB + 4GB RAM (Single...   \n",
      "19  Generic Apple IPhone 14 Pro Max 256GB HDD - 6 ...   \n",
      "20  Generic Universal Multifunctional Flexible Lon...   \n",
      "21  Generic Apple IPhone 11 128GB HDD - 4 GB RAM -...   \n",
      "22  Apple IPhone X 256GB, 3GB RAM, Single Sim - Sp...   \n",
      "23                     Apple Iphone 6 Plus 64 GB Gold   \n",
      "24  Apple Brand New Apple IPhone 14 PRO, 6.1\", 6GB...   \n",
      "25  Apple Quality Apple IPhone 14 Pro, 6.1\", 128GB...   \n",
      "26  Generic Apple IPhone 11 64GB HDD - 4 GB RAM -P...   \n",
      "27  Generic Apple IPhone 11 128GB HDD - 4 GB RAM -...   \n",
      "28  Apple IPhone 8 64GB ROM 2GB RAM 4G LTE - Singl...   \n",
      "29  Apple Standard Apple IPhone 14 Pro, 6.1\", 128G...   \n",
      "30  Apple Brand New Apple IPhone 14 PRO, 6.1\", 6GB...   \n",
      "31  Generic Apple IPhone 11 128GB HDD - 4 GB RAM -...   \n",
      "32  Generic Apple IPhone X 64GB HDD- 3GB RAM- Spac...   \n",
      "33  Generic Apple IPhone 14 Pro Max 128GB HDD - 6 ...   \n",
      "34  Generic Apple IPhone 12 Mini 128GB HDD- 4 GB R...   \n",
      "35  Generic Apple IPhone 14 Pro Max 256GB HDD - 6 ...   \n",
      "36  Generic Apple IPhone 14 Pro Max 256GB HDD - 6 ...   \n",
      "37  Generic Apple IPhone 12 Mini 128GB HDD- 4 GB R...   \n",
      "38  Apple IPhone 8 - 64GB - 2GB RAM - 12MP Camera ...   \n",
      "39  Generic A-Mio A1 Smart Watch Clock Sync Notifi...   \n",
      "\n",
      "                      Price        Date  \n",
      "0   KSh 35,177 - KSh 40,000  2023-06-16  \n",
      "1                KSh 39,999  2023-06-16  \n",
      "2                KSh 18,950  2023-06-16  \n",
      "3                KSh 41,799  2023-06-16  \n",
      "4                KSh 73,499  2023-06-16  \n",
      "5                KSh 59,999  2023-06-16  \n",
      "6                KSh 39,999  2023-06-16  \n",
      "7                KSh 73,499  2023-06-16  \n",
      "8               KSh 154,521  2023-06-16  \n",
      "9                KSh 31,399  2023-06-16  \n",
      "10               KSh 54,272  2023-06-16  \n",
      "11                  KSh 700  2023-06-16  \n",
      "12               KSh 23,000  2023-06-16  \n",
      "13                  KSh 469  2023-06-16  \n",
      "14               KSh 16,000  2023-06-16  \n",
      "15               KSh 23,000  2023-06-16  \n",
      "16               KSh 48,995  2023-06-16  \n",
      "17              KSh 125,290  2023-06-16  \n",
      "18              KSh 113,999  2023-06-16  \n",
      "19              KSh 220,474  2023-06-16  \n",
      "20                  KSh 499  2023-06-16  \n",
      "21               KSh 48,995  2023-06-16  \n",
      "22               KSh 48,000  2023-06-16  \n",
      "23               KSh 16,000  2023-06-16  \n",
      "24              KSh 188,499  2023-06-16  \n",
      "25              KSh 210,999  2023-06-16  \n",
      "26               KSh 48,995  2023-06-16  \n",
      "27               KSh 48,995  2023-06-16  \n",
      "28               KSh 23,000  2023-06-16  \n",
      "29              KSh 199,999  2023-06-16  \n",
      "30              KSh 189,999  2023-06-16  \n",
      "31               KSh 48,995  2023-06-16  \n",
      "32               KSh 25,516  2023-06-16  \n",
      "33              KSh 196,731  2023-06-16  \n",
      "34               KSh 67,462  2023-06-16  \n",
      "35              KSh 220,474  2023-06-16  \n",
      "36              KSh 220,474  2023-06-16  \n",
      "37               KSh 67,462  2023-06-16  \n",
      "38               KSh 28,499  2023-06-16  \n",
      "39                KSh 3,826  2023-06-16  \n"
     ]
    }
   ],
   "source": [
    "#reading the csv file\n",
    "import pandas as pd\n",
    "df = pd.read_csv(r\"C:\\Users\\gorja\\OneDrive\\Desktop\\Test\\iphone.csv\")\n",
    "print(df)"
   ]
  },
  {
   "cell_type": "code",
   "execution_count": 8,
   "id": "20b78cec",
   "metadata": {
    "scrolled": true
   },
   "outputs": [
    {
     "name": "stdout",
     "output_type": "stream",
     "text": [
      "                                                Title                    Price        Date\n",
      "0   Apple IPhone XS Authenticated And Repackaged B...  KSh 35,177 - KSh 40,000  2023-06-16\n",
      "1   Apple IPhone X, 256GB, 3GB RAM 5.8'' Super Ret...               KSh 39,999  2023-06-16\n",
      "2   Apple IPhone 6S - 64GB - 2GB RAM- 4G LTE- 12MP...               KSh 18,950  2023-06-16\n",
      "3   Apple IPhone X, 256GB, 3GB RAM 5.8'' Super Ret...               KSh 41,799  2023-06-16\n",
      "4     Apple IPhone 11 Pro - 256GB - 4GB RAM - Gold...               KSh 73,499  2023-06-16\n",
      "5   Apple IPhone 11 128GB 4GB RAM Single SIM 6.1\" ...               KSh 59,999  2023-06-16\n",
      "6   Apple IPhone X, 64GB, 3GB RAM 5.8'' Super Reti...               KSh 39,999  2023-06-16\n",
      "7   Apple IPhone 11 Pro - 256GB - 4GB RAM - Midnig...               KSh 73,499  2023-06-16\n",
      "8   Generic Apple IPhone 13 Pro Max 128GB HDD- 6 G...              KSh 154,521  2023-06-16\n",
      "9   Apple iPhone 7 Plus, 128GB + 3GB RAM,  4G LTE ...               KSh 31,399  2023-06-16\n",
      "10  Generic Apple IPhone 11 Pro 64GB HDD - 4 GB RA...               KSh 54,272  2023-06-16\n",
      "11  Generic Camera Lens Protector For IPhone 12 Pr...                  KSh 700  2023-06-16\n",
      "12  Apple IPhone 8 64GB ROM 2GB RAM 4G LTE - Singl...               KSh 23,000  2023-06-16\n",
      "13  Generic Universal Multifunctional Flexible Lon...                  KSh 469  2023-06-16\n",
      "14                          Apple Iphone 6 Plus 64 GB               KSh 16,000  2023-06-16\n",
      "15  Apple IPhone 8 64GB ROM 2GB RAM 4G LTE - Singl...               KSh 23,000  2023-06-16\n",
      "16  Generic Apple IPhone 11 64GB HDD - 4 GB RAM -P...               KSh 48,995  2023-06-16\n",
      "17  Apple IPhone 14 - 6.1\" - 128GB + 6GB - Single ...              KSh 125,290  2023-06-16\n",
      "18  Apple IPhone 13, 6.1\", 128GB + 4GB RAM (Single...              KSh 113,999  2023-06-16\n",
      "19  Generic Apple IPhone 14 Pro Max 256GB HDD - 6 ...              KSh 220,474  2023-06-16\n",
      "20  Generic Universal Multifunctional Flexible Lon...                  KSh 499  2023-06-16\n",
      "21  Generic Apple IPhone 11 128GB HDD - 4 GB RAM -...               KSh 48,995  2023-06-16\n",
      "22  Apple IPhone X 256GB, 3GB RAM, Single Sim - Sp...               KSh 48,000  2023-06-16\n",
      "23                     Apple Iphone 6 Plus 64 GB Gold               KSh 16,000  2023-06-16\n",
      "24  Apple Brand New Apple IPhone 14 PRO, 6.1\", 6GB...              KSh 188,499  2023-06-16\n",
      "25  Apple Quality Apple IPhone 14 Pro, 6.1\", 128GB...              KSh 210,999  2023-06-16\n",
      "26  Generic Apple IPhone 11 64GB HDD - 4 GB RAM -P...               KSh 48,995  2023-06-16\n",
      "27  Generic Apple IPhone 11 128GB HDD - 4 GB RAM -...               KSh 48,995  2023-06-16\n",
      "28  Apple IPhone 8 64GB ROM 2GB RAM 4G LTE - Singl...               KSh 23,000  2023-06-16\n",
      "29  Apple Standard Apple IPhone 14 Pro, 6.1\", 128G...              KSh 199,999  2023-06-16\n",
      "30  Apple Brand New Apple IPhone 14 PRO, 6.1\", 6GB...              KSh 189,999  2023-06-16\n",
      "31  Generic Apple IPhone 11 128GB HDD - 4 GB RAM -...               KSh 48,995  2023-06-16\n",
      "32  Generic Apple IPhone X 64GB HDD- 3GB RAM- Spac...               KSh 25,516  2023-06-16\n",
      "33  Generic Apple IPhone 14 Pro Max 128GB HDD - 6 ...              KSh 196,731  2023-06-16\n",
      "34  Generic Apple IPhone 12 Mini 128GB HDD- 4 GB R...               KSh 67,462  2023-06-16\n",
      "35  Generic Apple IPhone 14 Pro Max 256GB HDD - 6 ...              KSh 220,474  2023-06-16\n",
      "36  Generic Apple IPhone 14 Pro Max 256GB HDD - 6 ...              KSh 220,474  2023-06-16\n",
      "37  Generic Apple IPhone 12 Mini 128GB HDD- 4 GB R...               KSh 67,462  2023-06-16\n",
      "38  Apple IPhone 8 - 64GB - 2GB RAM - 12MP Camera ...               KSh 28,499  2023-06-16\n",
      "39  Generic A-Mio A1 Smart Watch Clock Sync Notifi...                KSh 3,826  2023-06-16\n"
     ]
    }
   ],
   "source": [
    "# correct view\n",
    "import pandas as pd\n",
    "\n",
    "# Set display options to show all columns and rows\n",
    "pd.set_option('display.expand_frame_repr', False)\n",
    "pd.set_option('display.max_columns', None)\n",
    "pd.set_option('display.max_rows', None)\n",
    "\n",
    "# Read the CSV file into a DataFrame\n",
    "df = pd.read_csv(r\"C:\\Users\\gorja\\OneDrive\\Desktop\\Test\\iphones.csv\")\n",
    "\n",
    "# Print the DataFrame\n",
    "print(df)"
   ]
  },
  {
   "cell_type": "code",
   "execution_count": 24,
   "id": "e7059802",
   "metadata": {},
   "outputs": [],
   "source": [
    "# reading file data\n",
    "df = pd.read_csv(r\"C:\\Users\\gorja\\OneDrive\\Desktop\\Test\\iphones.csv\")"
   ]
  },
  {
   "cell_type": "code",
   "execution_count": 25,
   "id": "8e919716",
   "metadata": {},
   "outputs": [
    {
     "data": {
      "text/html": [
       "<div>\n",
       "<style scoped>\n",
       "    .dataframe tbody tr th:only-of-type {\n",
       "        vertical-align: middle;\n",
       "    }\n",
       "\n",
       "    .dataframe tbody tr th {\n",
       "        vertical-align: top;\n",
       "    }\n",
       "\n",
       "    .dataframe thead th {\n",
       "        text-align: right;\n",
       "    }\n",
       "</style>\n",
       "<table border=\"1\" class=\"dataframe\">\n",
       "  <thead>\n",
       "    <tr style=\"text-align: right;\">\n",
       "      <th></th>\n",
       "      <th>Title</th>\n",
       "      <th>Price</th>\n",
       "      <th>Date</th>\n",
       "    </tr>\n",
       "  </thead>\n",
       "  <tbody>\n",
       "    <tr>\n",
       "      <th>0</th>\n",
       "      <td>Apple IPhone XS Authenticated And Repackaged B...</td>\n",
       "      <td>Ksh37,589</td>\n",
       "      <td>16/06/2023</td>\n",
       "    </tr>\n",
       "    <tr>\n",
       "      <th>1</th>\n",
       "      <td>Apple IPhone X, 256GB, 3GB RAM 5.8'' Super Ret...</td>\n",
       "      <td>Ksh39,999</td>\n",
       "      <td>16/06/2023</td>\n",
       "    </tr>\n",
       "    <tr>\n",
       "      <th>2</th>\n",
       "      <td>Apple IPhone 6S - 64GB - 2GB RAM- 4G LTE- 12MP...</td>\n",
       "      <td>Ksh18,950</td>\n",
       "      <td>16/06/2023</td>\n",
       "    </tr>\n",
       "    <tr>\n",
       "      <th>3</th>\n",
       "      <td>Apple IPhone X, 256GB, 3GB RAM 5.8'' Super Ret...</td>\n",
       "      <td>Ksh41,799</td>\n",
       "      <td>16/06/2023</td>\n",
       "    </tr>\n",
       "    <tr>\n",
       "      <th>4</th>\n",
       "      <td>Apple IPhone 11 Pro - 256GB - 4GB RAM - Gold...</td>\n",
       "      <td>Ksh73,499</td>\n",
       "      <td>16/06/2023</td>\n",
       "    </tr>\n",
       "  </tbody>\n",
       "</table>\n",
       "</div>"
      ],
      "text/plain": [
       "                                               Title      Price        Date\n",
       "0  Apple IPhone XS Authenticated And Repackaged B...  Ksh37,589  16/06/2023\n",
       "1  Apple IPhone X, 256GB, 3GB RAM 5.8'' Super Ret...  Ksh39,999  16/06/2023\n",
       "2  Apple IPhone 6S - 64GB - 2GB RAM- 4G LTE- 12MP...  Ksh18,950  16/06/2023\n",
       "3  Apple IPhone X, 256GB, 3GB RAM 5.8'' Super Ret...  Ksh41,799  16/06/2023\n",
       "4    Apple IPhone 11 Pro - 256GB - 4GB RAM - Gold...  Ksh73,499  16/06/2023"
      ]
     },
     "execution_count": 25,
     "metadata": {},
     "output_type": "execute_result"
    }
   ],
   "source": [
    "# looking on the data\n",
    "df.head()"
   ]
  },
  {
   "cell_type": "code",
   "execution_count": 26,
   "id": "da51ca74",
   "metadata": {},
   "outputs": [
    {
     "name": "stdout",
     "output_type": "stream",
     "text": [
      "Title - 0.0%\n",
      "Price - 0.0%\n",
      "Date - 0.0%\n"
     ]
    }
   ],
   "source": [
    "# checking missing data\n",
    "for col in df.columns:\n",
    "    pct_missing = np.mean(df[col].isnull())\n",
    "    print('{} - {}%'.format(col, pct_missing))"
   ]
  },
  {
   "cell_type": "code",
   "execution_count": 27,
   "id": "7b896b6e",
   "metadata": {},
   "outputs": [
    {
     "data": {
      "text/plain": [
       "Title    object\n",
       "Price    object\n",
       "Date     object\n",
       "dtype: object"
      ]
     },
     "execution_count": 27,
     "metadata": {},
     "output_type": "execute_result"
    }
   ],
   "source": [
    "# data types present in the columns\n",
    "df.dtypes"
   ]
  },
  {
   "cell_type": "code",
   "execution_count": 28,
   "id": "1e7789fa",
   "metadata": {},
   "outputs": [
    {
     "name": "stdout",
     "output_type": "stream",
     "text": [
      "Index(['Title', 'Price', 'Date'], dtype='object')\n"
     ]
    }
   ],
   "source": [
    "print(df.columns)\n"
   ]
  },
  {
   "cell_type": "code",
   "execution_count": 29,
   "id": "bbe42b48",
   "metadata": {},
   "outputs": [],
   "source": [
    "#changing the datatypes for columns \n",
    "df['Price'] = pd.to_numeric(df['Price'], errors='coerce').astype('Int64')\n",
    "\n"
   ]
  },
  {
   "cell_type": "code",
   "execution_count": 31,
   "id": "a48020df",
   "metadata": {},
   "outputs": [],
   "source": [
    "# reading file data\n",
    "df = pd.read_csv(r\"C:\\Users\\gorja\\OneDrive\\Desktop\\Test\\SamsungData.csv\")"
   ]
  },
  {
   "cell_type": "code",
   "execution_count": 32,
   "id": "8fcb7095",
   "metadata": {},
   "outputs": [
    {
     "data": {
      "text/html": [
       "<div>\n",
       "<style scoped>\n",
       "    .dataframe tbody tr th:only-of-type {\n",
       "        vertical-align: middle;\n",
       "    }\n",
       "\n",
       "    .dataframe tbody tr th {\n",
       "        vertical-align: top;\n",
       "    }\n",
       "\n",
       "    .dataframe thead th {\n",
       "        text-align: right;\n",
       "    }\n",
       "</style>\n",
       "<table border=\"1\" class=\"dataframe\">\n",
       "  <thead>\n",
       "    <tr style=\"text-align: right;\">\n",
       "      <th></th>\n",
       "      <th>Title</th>\n",
       "      <th>Price</th>\n",
       "      <th>Date</th>\n",
       "    </tr>\n",
       "  </thead>\n",
       "  <tbody>\n",
       "    <tr>\n",
       "      <th>0</th>\n",
       "      <td>Samsung Galaxy A04, 6.5\", 64GB + 4GB RAM (Dual...</td>\n",
       "      <td>Ksh15,400.00</td>\n",
       "      <td>16/06/2023</td>\n",
       "    </tr>\n",
       "    <tr>\n",
       "      <th>1</th>\n",
       "      <td>Samsung Galaxy A14, 6.6\", 128GB + 4GB, 50MP, D...</td>\n",
       "      <td>Ksh22,999.00</td>\n",
       "      <td>16/06/2023</td>\n",
       "    </tr>\n",
       "    <tr>\n",
       "      <th>2</th>\n",
       "      <td>Samsung Galaxy A04e, 6.5\", 32GB + 3GB RAM (Dua...</td>\n",
       "      <td>Ksh12,900.00</td>\n",
       "      <td>16/06/2023</td>\n",
       "    </tr>\n",
       "    <tr>\n",
       "      <th>3</th>\n",
       "      <td>Samsung Galaxy A04s, 6.5\", 64 GB + 4 GB RAM (D...</td>\n",
       "      <td>Ksh18,400.00</td>\n",
       "      <td>16/06/2023</td>\n",
       "    </tr>\n",
       "    <tr>\n",
       "      <th>4</th>\n",
       "      <td>Samsung Galaxy A04e 32GB ROM 3GB RAM 6.5'' 500...</td>\n",
       "      <td>Ksh12,800.00</td>\n",
       "      <td>16/06/2023</td>\n",
       "    </tr>\n",
       "  </tbody>\n",
       "</table>\n",
       "</div>"
      ],
      "text/plain": [
       "                                               Title          Price         Date\n",
       "0  Samsung Galaxy A04, 6.5\", 64GB + 4GB RAM (Dual...   Ksh15,400.00   16/06/2023\n",
       "1  Samsung Galaxy A14, 6.6\", 128GB + 4GB, 50MP, D...   Ksh22,999.00   16/06/2023\n",
       "2  Samsung Galaxy A04e, 6.5\", 32GB + 3GB RAM (Dua...   Ksh12,900.00   16/06/2023\n",
       "3  Samsung Galaxy A04s, 6.5\", 64 GB + 4 GB RAM (D...   Ksh18,400.00   16/06/2023\n",
       "4  Samsung Galaxy A04e 32GB ROM 3GB RAM 6.5'' 500...   Ksh12,800.00   16/06/2023"
      ]
     },
     "execution_count": 32,
     "metadata": {},
     "output_type": "execute_result"
    }
   ],
   "source": [
    "# looking on the data\n",
    "df.head()"
   ]
  },
  {
   "cell_type": "code",
   "execution_count": null,
   "id": "e2018c43",
   "metadata": {},
   "outputs": [],
   "source": [
    "# IPhone has the most expensive products compared to Samsung on Jumia s of 16/06/2023"
   ]
  }
 ],
 "metadata": {
  "kernelspec": {
   "display_name": "Python 3 (ipykernel)",
   "language": "python",
   "name": "python3"
  },
  "language_info": {
   "codemirror_mode": {
    "name": "ipython",
    "version": 3
   },
   "file_extension": ".py",
   "mimetype": "text/x-python",
   "name": "python",
   "nbconvert_exporter": "python",
   "pygments_lexer": "ipython3",
   "version": "3.10.11"
  }
 },
 "nbformat": 4,
 "nbformat_minor": 5
}
